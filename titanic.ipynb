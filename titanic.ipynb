{
 "cells": [
  {
   "cell_type": "markdown",
   "metadata": {
    "collapsed": true
   },
   "source": [
    "# Load modules and data"
   ]
  },
  {
   "cell_type": "code",
   "execution_count": 72,
   "metadata": {
    "collapsed": true
   },
   "outputs": [],
   "source": [
    "import pandas as pd\n",
    "import seaborn as sns\n",
    "import matplotlib.pyplot as plt\n",
    "from sklearn.feature_selection import RFECV\n",
    "from sklearn.ensemble import RandomForestClassifier\n",
    "from sklearn.neighbors import KNeighborsClassifier\n",
    "from sklearn.linear_model import LogisticRegression\n",
    "from sklearn.model_selection import GridSearchCV\n",
    "%matplotlib inline"
   ]
  },
  {
   "cell_type": "code",
   "execution_count": 73,
   "metadata": {
    "collapsed": true
   },
   "outputs": [],
   "source": [
    "train = pd.read_csv(\"train.csv\")\n",
    "test = pd.read_csv(\"test.csv\")"
   ]
  },
  {
   "cell_type": "code",
   "execution_count": 74,
   "metadata": {
    "collapsed": false
   },
   "outputs": [],
   "source": [
    "# %load functions.py\n",
    "def process_missing(df):\n",
    "    \"\"\"Handle various missing values from the data set\n",
    "\n",
    "    Usage\n",
    "    ------\n",
    "\n",
    "    holdout = process_missing(holdout)\n",
    "    \"\"\"\n",
    "    df[\"Fare\"] = df[\"Fare\"].fillna(df[\"Fare\"].mean())\n",
    "    df[\"Embarked\"] = df[\"Embarked\"].fillna(\"S\")\n",
    "    return df\n",
    "\n",
    "def process_age(df):\n",
    "    \"\"\"Process the Age column into pre-defined 'bins' \n",
    "\n",
    "    Usage\n",
    "    ------\n",
    "\n",
    "    train = process_age(train)\n",
    "    \"\"\"\n",
    "    df[\"Age\"] = df[\"Age\"].fillna(-0.5)\n",
    "    cut_points = [-1,0,5,12,18,35,60,100]\n",
    "    label_names = [\"Missing\",\"Infant\",\"Child\",\"Teenager\",\"Young Adult\",\"Adult\",\"Senior\"]\n",
    "    df[\"Age_categories\"] = pd.cut(df[\"Age\"],cut_points,labels=label_names)\n",
    "    df = df.drop(\"Age\", axis = 1)\n",
    "    return df\n",
    "\n",
    "def process_fare(df):\n",
    "    \"\"\"Process the Fare column into pre-defined 'bins' \n",
    "\n",
    "    Usage\n",
    "    ------\n",
    "\n",
    "    train = process_fare(train)\n",
    "    \"\"\"\n",
    "    cut_points = [-1,12,50,100,1000]\n",
    "    label_names = [\"0-12\",\"12-50\",\"50-100\",\"100+\"]\n",
    "    df[\"Fare_categories\"] = pd.cut(df[\"Fare\"],cut_points,labels=label_names)\n",
    "    df = df.drop(\"Fare\", axis = 1)\n",
    "    return df\n",
    "\n",
    "def process_cabin(df):\n",
    "    \"\"\"Process the Cabin column into pre-defined 'bins' \n",
    "\n",
    "    Usage\n",
    "    ------\n",
    "\n",
    "    train process_cabin(train)\n",
    "    \"\"\"\n",
    "    df[\"Cabin_type\"] = df[\"Cabin\"].str[0]\n",
    "    df[\"Cabin_type\"] = df[\"Cabin_type\"].fillna(\"Unknown\")\n",
    "    df = df.drop('Cabin',axis=1)\n",
    "    return df\n",
    "\n",
    "def process_titles(df):\n",
    "    \"\"\"Extract and categorize the title from the name column \n",
    "\n",
    "    Usage\n",
    "    ------\n",
    "\n",
    "    train = process_titles(train)\n",
    "    \"\"\"\n",
    "    titles = {\n",
    "        \"Mr\" :         \"Mr\",\n",
    "        \"Mme\":         \"Mrs\",\n",
    "        \"Ms\":          \"Mrs\",\n",
    "        \"Mrs\" :        \"Mrs\",\n",
    "        \"Master\" :     \"Master\",\n",
    "        \"Mlle\":        \"Miss\",\n",
    "        \"Miss\" :       \"Miss\",\n",
    "        \"Capt\":        \"Officer\",\n",
    "        \"Col\":         \"Officer\",\n",
    "        \"Major\":       \"Officer\",\n",
    "        \"Dr\":          \"Officer\",\n",
    "        \"Rev\":         \"Officer\",\n",
    "        \"Jonkheer\":    \"Royalty\",\n",
    "        \"Don\":         \"Royalty\",\n",
    "        \"Sir\" :        \"Royalty\",\n",
    "        \"Countess\":    \"Royalty\",\n",
    "        \"Dona\":        \"Royalty\",\n",
    "        \"Lady\" :       \"Royalty\"\n",
    "    }\n",
    "    extracted_titles = df[\"Name\"].str.extract(' ([A-Za-z]+)\\.',expand=False)\n",
    "    df[\"Title\"] = extracted_titles.map(titles)\n",
    "    df = df.drop([\"Name\"], axis = 1)\n",
    "    return df\n",
    "\n",
    "def create_dummies(df,column_name):\n",
    "    \"\"\"Create Dummy Columns (One Hot Encoding) from a single Column\n",
    "\n",
    "    Usage\n",
    "    ------\n",
    "\n",
    "    train = create_dummies(train,\"Age\")\n",
    "    \"\"\"\n",
    "    dummies = pd.get_dummies(df[column_name],prefix=column_name)\n",
    "    df = pd.concat([df,dummies],axis=1)\n",
    "    return df"
   ]
  },
  {
   "cell_type": "markdown",
   "metadata": {},
   "source": [
    "# Initial exploration"
   ]
  },
  {
   "cell_type": "markdown",
   "metadata": {},
   "source": [
    "Lets take a quick overlook of the data"
   ]
  },
  {
   "cell_type": "code",
   "execution_count": 75,
   "metadata": {
    "collapsed": false
   },
   "outputs": [
    {
     "data": {
      "text/html": [
       "<div>\n",
       "<table border=\"1\" class=\"dataframe\">\n",
       "  <thead>\n",
       "    <tr style=\"text-align: right;\">\n",
       "      <th></th>\n",
       "      <th>PassengerId</th>\n",
       "      <th>Survived</th>\n",
       "      <th>Pclass</th>\n",
       "      <th>Name</th>\n",
       "      <th>Sex</th>\n",
       "      <th>Age</th>\n",
       "      <th>SibSp</th>\n",
       "      <th>Parch</th>\n",
       "      <th>Ticket</th>\n",
       "      <th>Fare</th>\n",
       "      <th>Cabin</th>\n",
       "      <th>Embarked</th>\n",
       "    </tr>\n",
       "  </thead>\n",
       "  <tbody>\n",
       "    <tr>\n",
       "      <th>0</th>\n",
       "      <td>1</td>\n",
       "      <td>0</td>\n",
       "      <td>3</td>\n",
       "      <td>Braund, Mr. Owen Harris</td>\n",
       "      <td>male</td>\n",
       "      <td>22.0</td>\n",
       "      <td>1</td>\n",
       "      <td>0</td>\n",
       "      <td>A/5 21171</td>\n",
       "      <td>7.2500</td>\n",
       "      <td>NaN</td>\n",
       "      <td>S</td>\n",
       "    </tr>\n",
       "    <tr>\n",
       "      <th>1</th>\n",
       "      <td>2</td>\n",
       "      <td>1</td>\n",
       "      <td>1</td>\n",
       "      <td>Cumings, Mrs. John Bradley (Florence Briggs Th...</td>\n",
       "      <td>female</td>\n",
       "      <td>38.0</td>\n",
       "      <td>1</td>\n",
       "      <td>0</td>\n",
       "      <td>PC 17599</td>\n",
       "      <td>71.2833</td>\n",
       "      <td>C85</td>\n",
       "      <td>C</td>\n",
       "    </tr>\n",
       "    <tr>\n",
       "      <th>2</th>\n",
       "      <td>3</td>\n",
       "      <td>1</td>\n",
       "      <td>3</td>\n",
       "      <td>Heikkinen, Miss. Laina</td>\n",
       "      <td>female</td>\n",
       "      <td>26.0</td>\n",
       "      <td>0</td>\n",
       "      <td>0</td>\n",
       "      <td>STON/O2. 3101282</td>\n",
       "      <td>7.9250</td>\n",
       "      <td>NaN</td>\n",
       "      <td>S</td>\n",
       "    </tr>\n",
       "    <tr>\n",
       "      <th>3</th>\n",
       "      <td>4</td>\n",
       "      <td>1</td>\n",
       "      <td>1</td>\n",
       "      <td>Futrelle, Mrs. Jacques Heath (Lily May Peel)</td>\n",
       "      <td>female</td>\n",
       "      <td>35.0</td>\n",
       "      <td>1</td>\n",
       "      <td>0</td>\n",
       "      <td>113803</td>\n",
       "      <td>53.1000</td>\n",
       "      <td>C123</td>\n",
       "      <td>S</td>\n",
       "    </tr>\n",
       "    <tr>\n",
       "      <th>4</th>\n",
       "      <td>5</td>\n",
       "      <td>0</td>\n",
       "      <td>3</td>\n",
       "      <td>Allen, Mr. William Henry</td>\n",
       "      <td>male</td>\n",
       "      <td>35.0</td>\n",
       "      <td>0</td>\n",
       "      <td>0</td>\n",
       "      <td>373450</td>\n",
       "      <td>8.0500</td>\n",
       "      <td>NaN</td>\n",
       "      <td>S</td>\n",
       "    </tr>\n",
       "  </tbody>\n",
       "</table>\n",
       "</div>"
      ],
      "text/plain": [
       "   PassengerId  Survived  Pclass  \\\n",
       "0            1         0       3   \n",
       "1            2         1       1   \n",
       "2            3         1       3   \n",
       "3            4         1       1   \n",
       "4            5         0       3   \n",
       "\n",
       "                                                Name     Sex   Age  SibSp  \\\n",
       "0                            Braund, Mr. Owen Harris    male  22.0      1   \n",
       "1  Cumings, Mrs. John Bradley (Florence Briggs Th...  female  38.0      1   \n",
       "2                             Heikkinen, Miss. Laina  female  26.0      0   \n",
       "3       Futrelle, Mrs. Jacques Heath (Lily May Peel)  female  35.0      1   \n",
       "4                           Allen, Mr. William Henry    male  35.0      0   \n",
       "\n",
       "   Parch            Ticket     Fare Cabin Embarked  \n",
       "0      0         A/5 21171   7.2500   NaN        S  \n",
       "1      0          PC 17599  71.2833   C85        C  \n",
       "2      0  STON/O2. 3101282   7.9250   NaN        S  \n",
       "3      0            113803  53.1000  C123        S  \n",
       "4      0            373450   8.0500   NaN        S  "
      ]
     },
     "execution_count": 75,
     "metadata": {},
     "output_type": "execute_result"
    }
   ],
   "source": [
    "train.head()"
   ]
  },
  {
   "cell_type": "markdown",
   "metadata": {},
   "source": [
    "We'll focus on two columns that we haven't used before during the Dataquest course: *SibSp* and *Parch*\n",
    "\n",
    "*SibSp* is an integer representing the sum of siblings and/or spouses each passenger had aboard the Titanic\n",
    "\n",
    "*Parch* is also an integer, representing the sum of parents and/or children each passenger had aboard the Titanic"
   ]
  },
  {
   "cell_type": "code",
   "execution_count": 76,
   "metadata": {
    "collapsed": false
   },
   "outputs": [
    {
     "data": {
      "text/html": [
       "<div>\n",
       "<table border=\"1\" class=\"dataframe\">\n",
       "  <thead>\n",
       "    <tr style=\"text-align: right;\">\n",
       "      <th></th>\n",
       "      <th>SibSp</th>\n",
       "      <th>Parch</th>\n",
       "    </tr>\n",
       "  </thead>\n",
       "  <tbody>\n",
       "    <tr>\n",
       "      <th>count</th>\n",
       "      <td>891.000000</td>\n",
       "      <td>891.000000</td>\n",
       "    </tr>\n",
       "    <tr>\n",
       "      <th>mean</th>\n",
       "      <td>0.523008</td>\n",
       "      <td>0.381594</td>\n",
       "    </tr>\n",
       "    <tr>\n",
       "      <th>std</th>\n",
       "      <td>1.102743</td>\n",
       "      <td>0.806057</td>\n",
       "    </tr>\n",
       "    <tr>\n",
       "      <th>min</th>\n",
       "      <td>0.000000</td>\n",
       "      <td>0.000000</td>\n",
       "    </tr>\n",
       "    <tr>\n",
       "      <th>25%</th>\n",
       "      <td>0.000000</td>\n",
       "      <td>0.000000</td>\n",
       "    </tr>\n",
       "    <tr>\n",
       "      <th>50%</th>\n",
       "      <td>0.000000</td>\n",
       "      <td>0.000000</td>\n",
       "    </tr>\n",
       "    <tr>\n",
       "      <th>75%</th>\n",
       "      <td>1.000000</td>\n",
       "      <td>0.000000</td>\n",
       "    </tr>\n",
       "    <tr>\n",
       "      <th>max</th>\n",
       "      <td>8.000000</td>\n",
       "      <td>6.000000</td>\n",
       "    </tr>\n",
       "  </tbody>\n",
       "</table>\n",
       "</div>"
      ],
      "text/plain": [
       "            SibSp       Parch\n",
       "count  891.000000  891.000000\n",
       "mean     0.523008    0.381594\n",
       "std      1.102743    0.806057\n",
       "min      0.000000    0.000000\n",
       "25%      0.000000    0.000000\n",
       "50%      0.000000    0.000000\n",
       "75%      1.000000    0.000000\n",
       "max      8.000000    6.000000"
      ]
     },
     "execution_count": 76,
     "metadata": {},
     "output_type": "execute_result"
    }
   ],
   "source": [
    "relevant_features = [\"SibSp\", \"Parch\"]\n",
    "train[relevant_features].describe()"
   ]
  },
  {
   "cell_type": "markdown",
   "metadata": {
    "collapsed": true
   },
   "source": [
    "We can see that for both feature, the mean is between 0 and 1, which means that most of the passenger where on board alone. Also, by looking at the max, mean, and median values we can assume the distribution is skewed, with just a couple passengers having a high count of relatives on the ship"
   ]
  },
  {
   "cell_type": "code",
   "execution_count": 77,
   "metadata": {
    "collapsed": false
   },
   "outputs": [
    {
     "data": {
      "text/plain": [
       "<matplotlib.text.Text at 0x7faa290e1a20>"
      ]
     },
     "execution_count": 77,
     "metadata": {},
     "output_type": "execute_result"
    },
    {
     "data": {
      "image/png": "[encoded data removed]",
      "text/plain": [
       "<matplotlib.figure.Figure at 0x7faa2903b160>"
      ]
     },
     "metadata": {},
     "output_type": "display_data"
    }
   ],
   "source": [
    "fig, axes = plt.subplots(1, 2, figsize = (8, 3))\n",
    "\n",
    "sns.barplot(\"SibSp\", \"Survived\", data = train, ax = axes[0])\n",
    "axes[0].set_title(\"Survival rate by SibSp\")\n",
    "\n",
    "sns.barplot(\"Parch\", \"Survived\", data = train, ax = axes[1])\n",
    "axes[1].set_title(\"Survival rate by Parch\")"
   ]
  },
  {
   "cell_type": "markdown",
   "metadata": {},
   "source": [
    "From the graphic we can tell that having from 1 to 2 siblings/spouses, and/or 1 to 3 parents/childrens gives you a better chance at survival when compared to passengers that traveled alone or with bigger families.\n",
    "\n",
    "Lets check this idea further by combining both features into one"
   ]
  },
  {
   "cell_type": "code",
   "execution_count": 78,
   "metadata": {
    "collapsed": false
   },
   "outputs": [
    {
     "data": {
      "text/plain": [
       "<matplotlib.text.Text at 0x7faa290e1a20>"
      ]
     },
     "execution_count": 78,
     "metadata": {},
     "output_type": "execute_result"
    },
    {
     "data": {
      "image/png": "[encoded data removed]",
      "text/plain": [
       "<matplotlib.figure.Figure at 0x7faa2b03a588>"
      ]
     },
     "metadata": {},
     "output_type": "display_data"
    }
   ],
   "source": [
    "explore_cols = [\"SibSp\", \"Parch\", \"Survived\"]\n",
    "explore = train[explore_cols].copy()\n",
    "explore[\"family_size\"] = explore[[\"SibSp\", \"Parch\"]].sum(axis = 1)\n",
    "\n",
    "sns.barplot(\"family_size\", \"Survived\", data = explore)\n",
    "axes[1].set_title(\"Survival rate by Family size\")"
   ]
  },
  {
   "cell_type": "markdown",
   "metadata": {},
   "source": [
    "As expected, passenger that traveled alone aboard the Titanic had about 30% chances of surviving the accident. This information will become useful when we engineer new features for the model"
   ]
  },
  {
   "cell_type": "markdown",
   "metadata": {
    "collapsed": true
   },
   "source": [
    "# Feature engineering\n",
    "\n",
    "We have already developed and loaded a series of functions to clean our initial data and engineer some new features. Before applying those to our data sets, lets developed a new feature based on a passenger family size"
   ]
  },
  {
   "cell_type": "code",
   "execution_count": 79,
   "metadata": {
    "collapsed": true
   },
   "outputs": [],
   "source": [
    "def process_family_size(df):\n",
    "    df[\"familysize\"] = df[[\"SibSp\",\"Parch\"]].sum(axis = 1)\n",
    "    df[\"isalone\"] = 0\n",
    "    df.loc[(df[\"familysize\"] == 0),\"isalone\"] = 1\n",
    "    df = df.drop(\"familysize\",axis=1)\n",
    "    return df"
   ]
  },
  {
   "cell_type": "code",
   "execution_count": 80,
   "metadata": {
    "collapsed": true
   },
   "outputs": [],
   "source": [
    "def process_dataframe(df):\n",
    "    df = process_missing(df)\n",
    "    df = process_age(df)\n",
    "    df = process_fare(df)\n",
    "    df = process_titles(df)\n",
    "    df = process_cabin(df)\n",
    "    df = create_dummies(df, \"Age_categories\")\n",
    "    df = create_dummies(df, \"Fare_categories\")\n",
    "    df = create_dummies(df, \"Title\")\n",
    "    df = create_dummies(df, \"Cabin_type\")\n",
    "    df = create_dummies(df, \"Sex\")\n",
    "    df = process_family_size(df)\n",
    "    return df"
   ]
  },
  {
   "cell_type": "code",
   "execution_count": 81,
   "metadata": {
    "collapsed": false
   },
   "outputs": [],
   "source": [
    "train = process_dataframe(train)\n",
    "test = process_dataframe(test)"
   ]
  },
  {
   "cell_type": "markdown",
   "metadata": {
    "collapsed": true
   },
   "source": [
    "We know that dummy columns have a risk of being multicollinear, so we will drop some of the features in order to reduce this phenomenon and prevent overfitting of our model "
   ]
  },
  {
   "cell_type": "code",
   "execution_count": 82,
   "metadata": {
    "collapsed": true
   },
   "outputs": [],
   "source": [
    "drop_cols = [\"Sex_male\", \"Age_categories_Missing\", \"Cabin_type_Unknown\", \"Fare_categories_100+\"]\n",
    "train = train.drop(drop_cols, axis = 1)\n",
    "test = test.drop(drop_cols, axis = 1)"
   ]
  },
  {
   "cell_type": "markdown",
   "metadata": {},
   "source": [
    "We also want to remove the *SibSp* and the *Parch* columns since we joint the data from those features into the *isalone* column"
   ]
  },
  {
   "cell_type": "code",
   "execution_count": 83,
   "metadata": {
    "collapsed": true
   },
   "outputs": [],
   "source": [
    "drop_cols = [\"SibSp\", \"Parch\"]\n",
    "train = train.drop(drop_cols, axis = 1)\n",
    "test = test.drop(drop_cols, axis = 1)"
   ]
  },
  {
   "cell_type": "markdown",
   "metadata": {},
   "source": [
    "# Feature selection\n",
    "\n",
    "Feature selection\n",
    "In order to choose an optimal set of features for our model we will be using a Recursive Feature Elimination method with Cross-Validation. The initial feature weights will be given by a Random Forest Classifier model"
   ]
  },
  {
   "cell_type": "code",
   "execution_count": 84,
   "metadata": {
    "collapsed": true
   },
   "outputs": [],
   "source": [
    "def select_features(df):\n",
    "    df = df.select_dtypes([\"number\"]).dropna(axis = 1)\n",
    "    all_X = df.drop([\"Survived\", \"PassengerId\"], axis = 1)\n",
    "    all_y = df[\"Survived\"]\n",
    "    rfc = RandomForestClassifier(random_state = 1)\n",
    "    selector = RFECV(rfc, cv = 10)\n",
    "    selector.fit(all_X, all_y)\n",
    "    optimized_columns = all_X.columns[selector.support_]\n",
    "    \n",
    "    print(optimized_columns)\n",
    "    return optimized_columns"
   ]
  },
  {
   "cell_type": "code",
   "execution_count": 85,
   "metadata": {
    "collapsed": false
   },
   "outputs": [
    {
     "name": "stdout",
     "output_type": "stream",
     "text": [
      "Index(['Pclass', 'Age_categories_Infant', 'Age_categories_Child',\n",
      "       'Age_categories_Teenager', 'Age_categories_Young Adult',\n",
      "       'Age_categories_Adult', 'Age_categories_Senior', 'Fare_categories_0-12',\n",
      "       'Fare_categories_12-50', 'Fare_categories_50-100', 'Title_Miss',\n",
      "       'Title_Mr', 'Title_Mrs', 'Cabin_type_B', 'Cabin_type_C', 'Cabin_type_D',\n",
      "       'Cabin_type_E', 'Sex_female', 'isalone'],\n",
      "      dtype='object')\n"
     ]
    }
   ],
   "source": [
    "optimized_columns = select_features(train)"
   ]
  },
  {
   "cell_type": "markdown",
   "metadata": {},
   "source": [
    "The list of selected columns looks a little bit odd. We would expect strong correlation between the titles of \"Mr.\", \"Miss\" and \"Mrs.\" and the gender of a passenger, specifically because this data considers binary genres. It's also reasonable to expect that first class passengers paid more for their tickets, so there will be significant correlation between Fares and passenger class. \n",
    "\n",
    "Lets confirm our suspicions with a heatmap of feature correlations:"
   ]
  },
  {
   "cell_type": "code",
   "execution_count": 86,
   "metadata": {
    "collapsed": false
   },
   "outputs": [
    {
     "data": {
      "text/plain": [
       "<matplotlib.axes._subplots.AxesSubplot at 0x7faa292c2160>"
      ]
     },
     "execution_count": 86,
     "metadata": {},
     "output_type": "execute_result"
    },
    {
     "data": {
      "image/png": "[encoded data removed]",
      "text/plain": [
       "<matplotlib.figure.Figure at 0x7faa293e5f28>"
      ]
     },
     "metadata": {},
     "output_type": "display_data"
    }
   ],
   "source": [
    "sns.heatmap(train[optimized_columns].corr())"
   ]
  },
  {
   "cell_type": "markdown",
   "metadata": {},
   "source": [
    "As expected, the plot shows some of the strong correlations that we predicted. It also shows a strong correlation between the *isalone* feature and *Pclass*, which means that most of the lone passengers travelled in third class. We will decline from removing possibly redundant features from the model, understanding that it might become too overfit"
   ]
  },
  {
   "cell_type": "markdown",
   "metadata": {},
   "source": [
    "# Model selection and hyperparameter optimization\n",
    "\n",
    "We'll use a Grid Search algorithm to find the best combination of hyperparameters for three different models: Logistic Regression, K-Nearest Neighbors and Random Forest"
   ]
  },
  {
   "cell_type": "code",
   "execution_count": 87,
   "metadata": {
    "collapsed": false
   },
   "outputs": [],
   "source": [
    "lr_dict = {\n",
    "    \"name\": \"LogisticRegression\",\n",
    "    \"estimator\": LogisticRegression(),\n",
    "    \"hyperparameters\":\n",
    "    {\n",
    "        \"solver\": [\"newton-cg\", \"lbfgs\", \"liblinear\"]\n",
    "    }\n",
    "}\n",
    "\n",
    "knn_dict = {\n",
    "    \"name\": \"KNeighborsClassifier\",\n",
    "    \"estimator\": KNeighborsClassifier(),\n",
    "    \"hyperparameters\":\n",
    "    {\n",
    "        \"n_neighbors\": range(1, 20, 2),\n",
    "        \"weights\": [\"distance\", \"uniform\"],\n",
    "        \"algorithm\": [\"ball_tree\", \"kd_tree\", \"brute\"],\n",
    "        \"p\": [1, 2]\n",
    "    }\n",
    "}\n",
    "\n",
    "rf_dict = {\n",
    "    \"name\": \"RandomForestClassifier\",\n",
    "    \"estimator\": RandomForestClassifier(random_state = 1),\n",
    "    \"hyperparameters\":\n",
    "    {\n",
    "        \"n_estimators\": [4, 6, 9],\n",
    "        \"criterion\": [\"entropy\", \"gini\"],\n",
    "        \"max_depth\": [2, 5, 10],\n",
    "        \"max_features\": [\"log2\", \"sqrt\"],\n",
    "        \"min_samples_leaf\": [1, 5, 8],\n",
    "        \"min_samples_split\": [2, 3, 5]\n",
    "    }\n",
    "}\n",
    "\n",
    "dicts = [lr_dict, knn_dict, rf_dict]"
   ]
  },
  {
   "cell_type": "code",
   "execution_count": 88,
   "metadata": {
    "collapsed": true
   },
   "outputs": [],
   "source": [
    "def select_model(df, feature_cols, dicts):\n",
    "    all_X = df[feature_cols]\n",
    "    all_y = df[\"Survived\"]\n",
    "    \n",
    "    for dict_ in dicts:\n",
    "        print(dict_[\"name\"])\n",
    "        grid = GridSearchCV(dict_[\"estimator\"], param_grid = dict_[\"hyperparameters\"], cv = 10)\n",
    "        grid.fit(all_X, all_y)\n",
    "        best_params = grid.best_params_\n",
    "        best_score = grid.best_score_\n",
    "        dict_[\"best_params\"] = best_params\n",
    "        dict_[\"best_score\"] = best_score\n",
    "        dict_[\"best_estimator\"] = grid.best_estimator_\n",
    "        print(best_params)\n",
    "        print(best_score)\n",
    "    return dicts    "
   ]
  },
  {
   "cell_type": "code",
   "execution_count": 89,
   "metadata": {
    "collapsed": false
   },
   "outputs": [
    {
     "name": "stdout",
     "output_type": "stream",
     "text": [
      "LogisticRegression\n",
      "{'solver': 'newton-cg'}\n",
      "0.81593714927\n",
      "KNeighborsClassifier\n",
      "{'weights': 'distance', 'p': 2, 'algorithm': 'kd_tree', 'n_neighbors': 11}\n",
      "0.821548821549\n",
      "RandomForestClassifier\n",
      "{'criterion': 'entropy', 'max_depth': 10, 'max_features': 'log2', 'n_estimators': 6, 'min_samples_split': 5, 'min_samples_leaf': 1}\n",
      "0.819304152637\n"
     ]
    }
   ],
   "source": [
    "best_models = select_model(train, optimized_columns, dicts)"
   ]
  },
  {
   "cell_type": "markdown",
   "metadata": {},
   "source": [
    "# Preparing the submission for Kaggle\n",
    "\n",
    "We can see that the K-nearest neighbors model performed the best among our model candidates. However, at this point there is no significant improvement over our latest Kaggle submission.\n",
    "\n",
    "Nevertheless, in order to complete the workflow of this notebook, we will build a function to save our data into a file with the format that conforms to this specific competition."
   ]
  },
  {
   "cell_type": "code",
   "execution_count": 90,
   "metadata": {
    "collapsed": true
   },
   "outputs": [],
   "source": [
    "def save_submission_file(model, columns, filename = \"submission.csv\"):\n",
    "    holdout_predictions = model.predict(test[columns])\n",
    "    holdout_ids = test[\"PassengerId\"]\n",
    "\n",
    "    submission_df = {\"PassengerId\": holdout_ids,\n",
    "                     \"Survived\": holdout_predictions}\n",
    "    submission = pd.DataFrame(submission_df)\n",
    "    submission.to_csv(filename, index = False)"
   ]
  },
  {
   "cell_type": "code",
   "execution_count": 91,
   "metadata": {
    "collapsed": true
   },
   "outputs": [],
   "source": [
    "save_submission_file(dicts[2][\"best_estimator\"], optimized_columns)"
   ]
  },
  {
   "cell_type": "code",
   "execution_count": null,
   "metadata": {
    "collapsed": true
   },
   "outputs": [],
   "source": []
  }
 ],
 "metadata": {
  "kernelspec": {
   "display_name": "Python 3",
   "language": "python",
   "name": "python3"
  },
  "language_info": {
   "codemirror_mode": {
    "name": "ipython",
    "version": 3
   },
   "file_extension": ".py",
   "mimetype": "text/x-python",
   "name": "python",
   "nbconvert_exporter": "python",
   "pygments_lexer": "ipython3",
   "version": "3.4.3"
  }
 },
 "nbformat": 4,
 "nbformat_minor": 2
}
