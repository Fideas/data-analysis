{
 "cells": [
  {
   "cell_type": "markdown",
   "metadata": {
    "collapsed": true
   },
   "source": [
    "# Reading the data"
   ]
  },
  {
   "cell_type": "code",
   "execution_count": 14,
   "metadata": {
    "collapsed": true
   },
   "outputs": [],
   "source": [
    "import pandas as pd\n",
    "star_wars = pd.read_csv(\"star_wars.csv\", encoding=\"ISO-8859-1\")"
   ]
  },
  {
   "cell_type": "code",
   "execution_count": 15,
   "metadata": {
    "collapsed": false
   },
   "outputs": [
    {
     "data": {
      "text/html": [
       "<div>\n",
       "<table border=\"1\" class=\"dataframe\">\n",
       "  <thead>\n",
       "    <tr style=\"text-align: right;\">\n",
       "      <th></th>\n",
       "      <th>RespondentID</th>\n",
       "      <th>Have you seen any of the 6 films in the Star Wars franchise?</th>\n",
       "      <th>Do you consider yourself to be a fan of the Star Wars film franchise?</th>\n",
       "      <th>Which of the following Star Wars films have you seen? Please select all that apply.</th>\n",
       "      <th>Unnamed: 4</th>\n",
       "      <th>Unnamed: 5</th>\n",
       "      <th>Unnamed: 6</th>\n",
       "      <th>Unnamed: 7</th>\n",
       "      <th>Unnamed: 8</th>\n",
       "      <th>Please rank the Star Wars films in order of preference with 1 being your favorite film in the franchise and 6 being your least favorite film.</th>\n",
       "      <th>...</th>\n",
       "      <th>Unnamed: 28</th>\n",
       "      <th>Which character shot first?</th>\n",
       "      <th>Are you familiar with the Expanded Universe?</th>\n",
       "      <th>Do you consider yourself to be a fan of the Expanded Universe?ÂÃ¦</th>\n",
       "      <th>Do you consider yourself to be a fan of the Star Trek franchise?</th>\n",
       "      <th>Gender</th>\n",
       "      <th>Age</th>\n",
       "      <th>Household Income</th>\n",
       "      <th>Education</th>\n",
       "      <th>Location (Census Region)</th>\n",
       "    </tr>\n",
       "  </thead>\n",
       "  <tbody>\n",
       "    <tr>\n",
       "      <th>0</th>\n",
       "      <td>NaN</td>\n",
       "      <td>Response</td>\n",
       "      <td>Response</td>\n",
       "      <td>Star Wars: Episode I  The Phantom Menace</td>\n",
       "      <td>Star Wars: Episode II  Attack of the Clones</td>\n",
       "      <td>Star Wars: Episode III  Revenge of the Sith</td>\n",
       "      <td>Star Wars: Episode IV  A New Hope</td>\n",
       "      <td>Star Wars: Episode V The Empire Strikes Back</td>\n",
       "      <td>Star Wars: Episode VI Return of the Jedi</td>\n",
       "      <td>Star Wars: Episode I  The Phantom Menace</td>\n",
       "      <td>...</td>\n",
       "      <td>Yoda</td>\n",
       "      <td>Response</td>\n",
       "      <td>Response</td>\n",
       "      <td>Response</td>\n",
       "      <td>Response</td>\n",
       "      <td>Response</td>\n",
       "      <td>Response</td>\n",
       "      <td>Response</td>\n",
       "      <td>Response</td>\n",
       "      <td>Response</td>\n",
       "    </tr>\n",
       "    <tr>\n",
       "      <th>1</th>\n",
       "      <td>3.292880e+09</td>\n",
       "      <td>Yes</td>\n",
       "      <td>Yes</td>\n",
       "      <td>Star Wars: Episode I  The Phantom Menace</td>\n",
       "      <td>Star Wars: Episode II  Attack of the Clones</td>\n",
       "      <td>Star Wars: Episode III  Revenge of the Sith</td>\n",
       "      <td>Star Wars: Episode IV  A New Hope</td>\n",
       "      <td>Star Wars: Episode V The Empire Strikes Back</td>\n",
       "      <td>Star Wars: Episode VI Return of the Jedi</td>\n",
       "      <td>3</td>\n",
       "      <td>...</td>\n",
       "      <td>Very favorably</td>\n",
       "      <td>I don't understand this question</td>\n",
       "      <td>Yes</td>\n",
       "      <td>No</td>\n",
       "      <td>No</td>\n",
       "      <td>Male</td>\n",
       "      <td>18-29</td>\n",
       "      <td>NaN</td>\n",
       "      <td>High school degree</td>\n",
       "      <td>South Atlantic</td>\n",
       "    </tr>\n",
       "    <tr>\n",
       "      <th>2</th>\n",
       "      <td>3.292880e+09</td>\n",
       "      <td>No</td>\n",
       "      <td>NaN</td>\n",
       "      <td>NaN</td>\n",
       "      <td>NaN</td>\n",
       "      <td>NaN</td>\n",
       "      <td>NaN</td>\n",
       "      <td>NaN</td>\n",
       "      <td>NaN</td>\n",
       "      <td>NaN</td>\n",
       "      <td>...</td>\n",
       "      <td>NaN</td>\n",
       "      <td>NaN</td>\n",
       "      <td>NaN</td>\n",
       "      <td>NaN</td>\n",
       "      <td>Yes</td>\n",
       "      <td>Male</td>\n",
       "      <td>18-29</td>\n",
       "      <td>$0 - $24,999</td>\n",
       "      <td>Bachelor degree</td>\n",
       "      <td>West South Central</td>\n",
       "    </tr>\n",
       "    <tr>\n",
       "      <th>3</th>\n",
       "      <td>3.292765e+09</td>\n",
       "      <td>Yes</td>\n",
       "      <td>No</td>\n",
       "      <td>Star Wars: Episode I  The Phantom Menace</td>\n",
       "      <td>Star Wars: Episode II  Attack of the Clones</td>\n",
       "      <td>Star Wars: Episode III  Revenge of the Sith</td>\n",
       "      <td>NaN</td>\n",
       "      <td>NaN</td>\n",
       "      <td>NaN</td>\n",
       "      <td>1</td>\n",
       "      <td>...</td>\n",
       "      <td>Unfamiliar (N/A)</td>\n",
       "      <td>I don't understand this question</td>\n",
       "      <td>No</td>\n",
       "      <td>NaN</td>\n",
       "      <td>No</td>\n",
       "      <td>Male</td>\n",
       "      <td>18-29</td>\n",
       "      <td>$0 - $24,999</td>\n",
       "      <td>High school degree</td>\n",
       "      <td>West North Central</td>\n",
       "    </tr>\n",
       "    <tr>\n",
       "      <th>4</th>\n",
       "      <td>3.292763e+09</td>\n",
       "      <td>Yes</td>\n",
       "      <td>Yes</td>\n",
       "      <td>Star Wars: Episode I  The Phantom Menace</td>\n",
       "      <td>Star Wars: Episode II  Attack of the Clones</td>\n",
       "      <td>Star Wars: Episode III  Revenge of the Sith</td>\n",
       "      <td>Star Wars: Episode IV  A New Hope</td>\n",
       "      <td>Star Wars: Episode V The Empire Strikes Back</td>\n",
       "      <td>Star Wars: Episode VI Return of the Jedi</td>\n",
       "      <td>5</td>\n",
       "      <td>...</td>\n",
       "      <td>Very favorably</td>\n",
       "      <td>I don't understand this question</td>\n",
       "      <td>No</td>\n",
       "      <td>NaN</td>\n",
       "      <td>Yes</td>\n",
       "      <td>Male</td>\n",
       "      <td>18-29</td>\n",
       "      <td>$100,000 - $149,999</td>\n",
       "      <td>Some college or Associate degree</td>\n",
       "      <td>West North Central</td>\n",
       "    </tr>\n",
       "    <tr>\n",
       "      <th>5</th>\n",
       "      <td>3.292731e+09</td>\n",
       "      <td>Yes</td>\n",
       "      <td>Yes</td>\n",
       "      <td>Star Wars: Episode I  The Phantom Menace</td>\n",
       "      <td>Star Wars: Episode II  Attack of the Clones</td>\n",
       "      <td>Star Wars: Episode III  Revenge of the Sith</td>\n",
       "      <td>Star Wars: Episode IV  A New Hope</td>\n",
       "      <td>Star Wars: Episode V The Empire Strikes Back</td>\n",
       "      <td>Star Wars: Episode VI Return of the Jedi</td>\n",
       "      <td>5</td>\n",
       "      <td>...</td>\n",
       "      <td>Somewhat favorably</td>\n",
       "      <td>Greedo</td>\n",
       "      <td>Yes</td>\n",
       "      <td>No</td>\n",
       "      <td>No</td>\n",
       "      <td>Male</td>\n",
       "      <td>18-29</td>\n",
       "      <td>$100,000 - $149,999</td>\n",
       "      <td>Some college or Associate degree</td>\n",
       "      <td>West North Central</td>\n",
       "    </tr>\n",
       "    <tr>\n",
       "      <th>6</th>\n",
       "      <td>3.292719e+09</td>\n",
       "      <td>Yes</td>\n",
       "      <td>Yes</td>\n",
       "      <td>Star Wars: Episode I  The Phantom Menace</td>\n",
       "      <td>Star Wars: Episode II  Attack of the Clones</td>\n",
       "      <td>Star Wars: Episode III  Revenge of the Sith</td>\n",
       "      <td>Star Wars: Episode IV  A New Hope</td>\n",
       "      <td>Star Wars: Episode V The Empire Strikes Back</td>\n",
       "      <td>Star Wars: Episode VI Return of the Jedi</td>\n",
       "      <td>1</td>\n",
       "      <td>...</td>\n",
       "      <td>Very favorably</td>\n",
       "      <td>Han</td>\n",
       "      <td>Yes</td>\n",
       "      <td>No</td>\n",
       "      <td>Yes</td>\n",
       "      <td>Male</td>\n",
       "      <td>18-29</td>\n",
       "      <td>$25,000 - $49,999</td>\n",
       "      <td>Bachelor degree</td>\n",
       "      <td>Middle Atlantic</td>\n",
       "    </tr>\n",
       "    <tr>\n",
       "      <th>7</th>\n",
       "      <td>3.292685e+09</td>\n",
       "      <td>Yes</td>\n",
       "      <td>Yes</td>\n",
       "      <td>Star Wars: Episode I  The Phantom Menace</td>\n",
       "      <td>Star Wars: Episode II  Attack of the Clones</td>\n",
       "      <td>Star Wars: Episode III  Revenge of the Sith</td>\n",
       "      <td>Star Wars: Episode IV  A New Hope</td>\n",
       "      <td>Star Wars: Episode V The Empire Strikes Back</td>\n",
       "      <td>Star Wars: Episode VI Return of the Jedi</td>\n",
       "      <td>6</td>\n",
       "      <td>...</td>\n",
       "      <td>Very favorably</td>\n",
       "      <td>Han</td>\n",
       "      <td>Yes</td>\n",
       "      <td>No</td>\n",
       "      <td>No</td>\n",
       "      <td>Male</td>\n",
       "      <td>18-29</td>\n",
       "      <td>NaN</td>\n",
       "      <td>High school degree</td>\n",
       "      <td>East North Central</td>\n",
       "    </tr>\n",
       "    <tr>\n",
       "      <th>8</th>\n",
       "      <td>3.292664e+09</td>\n",
       "      <td>Yes</td>\n",
       "      <td>Yes</td>\n",
       "      <td>Star Wars: Episode I  The Phantom Menace</td>\n",
       "      <td>Star Wars: Episode II  Attack of the Clones</td>\n",
       "      <td>Star Wars: Episode III  Revenge of the Sith</td>\n",
       "      <td>Star Wars: Episode IV  A New Hope</td>\n",
       "      <td>Star Wars: Episode V The Empire Strikes Back</td>\n",
       "      <td>Star Wars: Episode VI Return of the Jedi</td>\n",
       "      <td>4</td>\n",
       "      <td>...</td>\n",
       "      <td>Very favorably</td>\n",
       "      <td>Han</td>\n",
       "      <td>No</td>\n",
       "      <td>NaN</td>\n",
       "      <td>Yes</td>\n",
       "      <td>Male</td>\n",
       "      <td>18-29</td>\n",
       "      <td>NaN</td>\n",
       "      <td>High school degree</td>\n",
       "      <td>South Atlantic</td>\n",
       "    </tr>\n",
       "    <tr>\n",
       "      <th>9</th>\n",
       "      <td>3.292654e+09</td>\n",
       "      <td>Yes</td>\n",
       "      <td>Yes</td>\n",
       "      <td>Star Wars: Episode I  The Phantom Menace</td>\n",
       "      <td>Star Wars: Episode II  Attack of the Clones</td>\n",
       "      <td>Star Wars: Episode III  Revenge of the Sith</td>\n",
       "      <td>Star Wars: Episode IV  A New Hope</td>\n",
       "      <td>Star Wars: Episode V The Empire Strikes Back</td>\n",
       "      <td>Star Wars: Episode VI Return of the Jedi</td>\n",
       "      <td>5</td>\n",
       "      <td>...</td>\n",
       "      <td>Somewhat favorably</td>\n",
       "      <td>Han</td>\n",
       "      <td>No</td>\n",
       "      <td>NaN</td>\n",
       "      <td>No</td>\n",
       "      <td>Male</td>\n",
       "      <td>18-29</td>\n",
       "      <td>$0 - $24,999</td>\n",
       "      <td>Some college or Associate degree</td>\n",
       "      <td>South Atlantic</td>\n",
       "    </tr>\n",
       "  </tbody>\n",
       "</table>\n",
       "<p>10 rows × 38 columns</p>\n",
       "</div>"
      ],
      "text/plain": [
       "   RespondentID Have you seen any of the 6 films in the Star Wars franchise?  \\\n",
       "0           NaN                                           Response             \n",
       "1  3.292880e+09                                                Yes             \n",
       "2  3.292880e+09                                                 No             \n",
       "3  3.292765e+09                                                Yes             \n",
       "4  3.292763e+09                                                Yes             \n",
       "5  3.292731e+09                                                Yes             \n",
       "6  3.292719e+09                                                Yes             \n",
       "7  3.292685e+09                                                Yes             \n",
       "8  3.292664e+09                                                Yes             \n",
       "9  3.292654e+09                                                Yes             \n",
       "\n",
       "  Do you consider yourself to be a fan of the Star Wars film franchise?  \\\n",
       "0                                           Response                      \n",
       "1                                                Yes                      \n",
       "2                                                NaN                      \n",
       "3                                                 No                      \n",
       "4                                                Yes                      \n",
       "5                                                Yes                      \n",
       "6                                                Yes                      \n",
       "7                                                Yes                      \n",
       "8                                                Yes                      \n",
       "9                                                Yes                      \n",
       "\n",
       "  Which of the following Star Wars films have you seen? Please select all that apply.  \\\n",
       "0           Star Wars: Episode I  The Phantom Menace                                    \n",
       "1           Star Wars: Episode I  The Phantom Menace                                    \n",
       "2                                                NaN                                    \n",
       "3           Star Wars: Episode I  The Phantom Menace                                    \n",
       "4           Star Wars: Episode I  The Phantom Menace                                    \n",
       "5           Star Wars: Episode I  The Phantom Menace                                    \n",
       "6           Star Wars: Episode I  The Phantom Menace                                    \n",
       "7           Star Wars: Episode I  The Phantom Menace                                    \n",
       "8           Star Wars: Episode I  The Phantom Menace                                    \n",
       "9           Star Wars: Episode I  The Phantom Menace                                    \n",
       "\n",
       "                                    Unnamed: 4  \\\n",
       "0  Star Wars: Episode II  Attack of the Clones   \n",
       "1  Star Wars: Episode II  Attack of the Clones   \n",
       "2                                          NaN   \n",
       "3  Star Wars: Episode II  Attack of the Clones   \n",
       "4  Star Wars: Episode II  Attack of the Clones   \n",
       "5  Star Wars: Episode II  Attack of the Clones   \n",
       "6  Star Wars: Episode II  Attack of the Clones   \n",
       "7  Star Wars: Episode II  Attack of the Clones   \n",
       "8  Star Wars: Episode II  Attack of the Clones   \n",
       "9  Star Wars: Episode II  Attack of the Clones   \n",
       "\n",
       "                                    Unnamed: 5  \\\n",
       "0  Star Wars: Episode III  Revenge of the Sith   \n",
       "1  Star Wars: Episode III  Revenge of the Sith   \n",
       "2                                          NaN   \n",
       "3  Star Wars: Episode III  Revenge of the Sith   \n",
       "4  Star Wars: Episode III  Revenge of the Sith   \n",
       "5  Star Wars: Episode III  Revenge of the Sith   \n",
       "6  Star Wars: Episode III  Revenge of the Sith   \n",
       "7  Star Wars: Episode III  Revenge of the Sith   \n",
       "8  Star Wars: Episode III  Revenge of the Sith   \n",
       "9  Star Wars: Episode III  Revenge of the Sith   \n",
       "\n",
       "                          Unnamed: 6  \\\n",
       "0  Star Wars: Episode IV  A New Hope   \n",
       "1  Star Wars: Episode IV  A New Hope   \n",
       "2                                NaN   \n",
       "3                                NaN   \n",
       "4  Star Wars: Episode IV  A New Hope   \n",
       "5  Star Wars: Episode IV  A New Hope   \n",
       "6  Star Wars: Episode IV  A New Hope   \n",
       "7  Star Wars: Episode IV  A New Hope   \n",
       "8  Star Wars: Episode IV  A New Hope   \n",
       "9  Star Wars: Episode IV  A New Hope   \n",
       "\n",
       "                                     Unnamed: 7  \\\n",
       "0  Star Wars: Episode V The Empire Strikes Back   \n",
       "1  Star Wars: Episode V The Empire Strikes Back   \n",
       "2                                           NaN   \n",
       "3                                           NaN   \n",
       "4  Star Wars: Episode V The Empire Strikes Back   \n",
       "5  Star Wars: Episode V The Empire Strikes Back   \n",
       "6  Star Wars: Episode V The Empire Strikes Back   \n",
       "7  Star Wars: Episode V The Empire Strikes Back   \n",
       "8  Star Wars: Episode V The Empire Strikes Back   \n",
       "9  Star Wars: Episode V The Empire Strikes Back   \n",
       "\n",
       "                                 Unnamed: 8  \\\n",
       "0  Star Wars: Episode VI Return of the Jedi   \n",
       "1  Star Wars: Episode VI Return of the Jedi   \n",
       "2                                       NaN   \n",
       "3                                       NaN   \n",
       "4  Star Wars: Episode VI Return of the Jedi   \n",
       "5  Star Wars: Episode VI Return of the Jedi   \n",
       "6  Star Wars: Episode VI Return of the Jedi   \n",
       "7  Star Wars: Episode VI Return of the Jedi   \n",
       "8  Star Wars: Episode VI Return of the Jedi   \n",
       "9  Star Wars: Episode VI Return of the Jedi   \n",
       "\n",
       "  Please rank the Star Wars films in order of preference with 1 being your favorite film in the franchise and 6 being your least favorite film.  \\\n",
       "0           Star Wars: Episode I  The Phantom Menace                                                                                              \n",
       "1                                                  3                                                                                              \n",
       "2                                                NaN                                                                                              \n",
       "3                                                  1                                                                                              \n",
       "4                                                  5                                                                                              \n",
       "5                                                  5                                                                                              \n",
       "6                                                  1                                                                                              \n",
       "7                                                  6                                                                                              \n",
       "8                                                  4                                                                                              \n",
       "9                                                  5                                                                                              \n",
       "\n",
       "            ...                    Unnamed: 28  \\\n",
       "0           ...                           Yoda   \n",
       "1           ...                 Very favorably   \n",
       "2           ...                            NaN   \n",
       "3           ...               Unfamiliar (N/A)   \n",
       "4           ...                 Very favorably   \n",
       "5           ...             Somewhat favorably   \n",
       "6           ...                 Very favorably   \n",
       "7           ...                 Very favorably   \n",
       "8           ...                 Very favorably   \n",
       "9           ...             Somewhat favorably   \n",
       "\n",
       "        Which character shot first?  \\\n",
       "0                          Response   \n",
       "1  I don't understand this question   \n",
       "2                               NaN   \n",
       "3  I don't understand this question   \n",
       "4  I don't understand this question   \n",
       "5                            Greedo   \n",
       "6                               Han   \n",
       "7                               Han   \n",
       "8                               Han   \n",
       "9                               Han   \n",
       "\n",
       "  Are you familiar with the Expanded Universe?  \\\n",
       "0                                     Response   \n",
       "1                                          Yes   \n",
       "2                                          NaN   \n",
       "3                                           No   \n",
       "4                                           No   \n",
       "5                                          Yes   \n",
       "6                                          Yes   \n",
       "7                                          Yes   \n",
       "8                                           No   \n",
       "9                                           No   \n",
       "\n",
       "  Do you consider yourself to be a fan of the Expanded Universe?ÂÃ¦  \\\n",
       "0                                           Response                   \n",
       "1                                                 No                   \n",
       "2                                                NaN                   \n",
       "3                                                NaN                   \n",
       "4                                                NaN                   \n",
       "5                                                 No                   \n",
       "6                                                 No                   \n",
       "7                                                 No                   \n",
       "8                                                NaN                   \n",
       "9                                                NaN                   \n",
       "\n",
       "  Do you consider yourself to be a fan of the Star Trek franchise?    Gender  \\\n",
       "0                                           Response                Response   \n",
       "1                                                 No                    Male   \n",
       "2                                                Yes                    Male   \n",
       "3                                                 No                    Male   \n",
       "4                                                Yes                    Male   \n",
       "5                                                 No                    Male   \n",
       "6                                                Yes                    Male   \n",
       "7                                                 No                    Male   \n",
       "8                                                Yes                    Male   \n",
       "9                                                 No                    Male   \n",
       "\n",
       "        Age     Household Income                         Education  \\\n",
       "0  Response             Response                          Response   \n",
       "1     18-29                  NaN                High school degree   \n",
       "2     18-29         $0 - $24,999                   Bachelor degree   \n",
       "3     18-29         $0 - $24,999                High school degree   \n",
       "4     18-29  $100,000 - $149,999  Some college or Associate degree   \n",
       "5     18-29  $100,000 - $149,999  Some college or Associate degree   \n",
       "6     18-29    $25,000 - $49,999                   Bachelor degree   \n",
       "7     18-29                  NaN                High school degree   \n",
       "8     18-29                  NaN                High school degree   \n",
       "9     18-29         $0 - $24,999  Some college or Associate degree   \n",
       "\n",
       "  Location (Census Region)  \n",
       "0                 Response  \n",
       "1           South Atlantic  \n",
       "2       West South Central  \n",
       "3       West North Central  \n",
       "4       West North Central  \n",
       "5       West North Central  \n",
       "6          Middle Atlantic  \n",
       "7       East North Central  \n",
       "8           South Atlantic  \n",
       "9           South Atlantic  \n",
       "\n",
       "[10 rows x 38 columns]"
      ]
     },
     "execution_count": 15,
     "metadata": {},
     "output_type": "execute_result"
    }
   ],
   "source": [
    "star_wars.head(10)"
   ]
  },
  {
   "cell_type": "code",
   "execution_count": 16,
   "metadata": {
    "collapsed": false
   },
   "outputs": [
    {
     "data": {
      "text/plain": [
       "Index(['RespondentID',\n",
       "       'Have you seen any of the 6 films in the Star Wars franchise?',\n",
       "       'Do you consider yourself to be a fan of the Star Wars film franchise?',\n",
       "       'Which of the following Star Wars films have you seen? Please select all that apply.',\n",
       "       'Unnamed: 4', 'Unnamed: 5', 'Unnamed: 6', 'Unnamed: 7', 'Unnamed: 8',\n",
       "       'Please rank the Star Wars films in order of preference with 1 being your favorite film in the franchise and 6 being your least favorite film.',\n",
       "       'Unnamed: 10', 'Unnamed: 11', 'Unnamed: 12', 'Unnamed: 13',\n",
       "       'Unnamed: 14',\n",
       "       'Please state whether you view the following characters favorably, unfavorably, or are unfamiliar with him/her.',\n",
       "       'Unnamed: 16', 'Unnamed: 17', 'Unnamed: 18', 'Unnamed: 19',\n",
       "       'Unnamed: 20', 'Unnamed: 21', 'Unnamed: 22', 'Unnamed: 23',\n",
       "       'Unnamed: 24', 'Unnamed: 25', 'Unnamed: 26', 'Unnamed: 27',\n",
       "       'Unnamed: 28', 'Which character shot first?',\n",
       "       'Are you familiar with the Expanded Universe?',\n",
       "       'Do you consider yourself to be a fan of the Expanded Universe?ÂÃ¦',\n",
       "       'Do you consider yourself to be a fan of the Star Trek franchise?',\n",
       "       'Gender', 'Age', 'Household Income', 'Education',\n",
       "       'Location (Census Region)'],\n",
       "      dtype='object')"
      ]
     },
     "execution_count": 16,
     "metadata": {},
     "output_type": "execute_result"
    }
   ],
   "source": [
    "star_wars.columns"
   ]
  },
  {
   "cell_type": "markdown",
   "metadata": {},
   "source": [
    "# Clean up the IDs"
   ]
  },
  {
   "cell_type": "code",
   "execution_count": 17,
   "metadata": {
    "collapsed": true
   },
   "outputs": [],
   "source": [
    "star_wars = star_wars[star_wars[\"RespondentID\"].notnull()]"
   ]
  },
  {
   "cell_type": "markdown",
   "metadata": {},
   "source": [
    "# Clean up Yes/No questions"
   ]
  },
  {
   "cell_type": "code",
   "execution_count": 18,
   "metadata": {
    "collapsed": true
   },
   "outputs": [],
   "source": [
    "yes_no_columns = [\"Have you seen any of the 6 films in the Star Wars franchise?\", \n",
    "                  \"Do you consider yourself to be a fan of the Star Wars film franchise?\"]\n",
    "\n",
    "yes_no = {\n",
    "    \"Yes\": True,\n",
    "    \"No\": False\n",
    "}\n",
    "\n",
    "for col in yes_no_columns:\n",
    "    star_wars[col] = star_wars[col].map(yes_no)"
   ]
  },
  {
   "cell_type": "markdown",
   "metadata": {},
   "source": [
    "# Clean up questions about film preferences"
   ]
  },
  {
   "cell_type": "code",
   "execution_count": 19,
   "metadata": {
    "collapsed": false
   },
   "outputs": [],
   "source": [
    "import numpy as np\n",
    "\n",
    "movie_seen_cols = [\"Which of the following Star Wars films have you seen? Please select all that apply.\",\n",
    "                  \"Unnamed: 4\",\n",
    "                  \"Unnamed: 5\",\n",
    "                  \"Unnamed: 6\",\n",
    "                  \"Unnamed: 7\",\n",
    "                  \"Unnamed: 8\"]\n",
    "\n",
    "for col in movie_seen_cols:\n",
    "    star_wars[col] = star_wars[col].notnull()"
   ]
  },
  {
   "cell_type": "code",
   "execution_count": 20,
   "metadata": {
    "collapsed": false
   },
   "outputs": [],
   "source": [
    "star_wars = star_wars.rename(columns={\n",
    "        \"Which of the following Star Wars films have you seen? Please select all that apply.\": \"seen_1\",\n",
    "        \"Unnamed: 4\": \"seen_2\",\n",
    "        \"Unnamed: 5\": \"seen_3\",\n",
    "        \"Unnamed: 6\": \"seen_4\",\n",
    "        \"Unnamed: 7\": \"seen_5\",\n",
    "        \"Unnamed: 8\": \"seen_6\"\n",
    "        })"
   ]
  },
  {
   "cell_type": "code",
   "execution_count": 21,
   "metadata": {
    "collapsed": false
   },
   "outputs": [],
   "source": [
    "star_wars[star_wars.columns[9:15]] = star_wars[star_wars.columns[9:15]].astype(float)"
   ]
  },
  {
   "cell_type": "code",
   "execution_count": 22,
   "metadata": {
    "collapsed": true
   },
   "outputs": [],
   "source": [
    "star_wars = star_wars.rename(columns={\n",
    "        \"Please rank the Star Wars films in order of preference with 1 being your favorite film in the franchise and 6 being your least favorite film.\": \"ranking_1\",\n",
    "        \"Unnamed: 10\": \"ranking_2\",\n",
    "        \"Unnamed: 11\": \"ranking_3\",\n",
    "        \"Unnamed: 12\": \"ranking_4\",\n",
    "        \"Unnamed: 13\": \"ranking_5\",\n",
    "        \"Unnamed: 14\": \"ranking_6\"\n",
    "        })"
   ]
  },
  {
   "cell_type": "code",
   "execution_count": 23,
   "metadata": {
    "collapsed": false
   },
   "outputs": [
    {
     "data": {
      "text/html": [
       "<div>\n",
       "<table border=\"1\" class=\"dataframe\">\n",
       "  <thead>\n",
       "    <tr style=\"text-align: right;\">\n",
       "      <th></th>\n",
       "      <th>RespondentID</th>\n",
       "      <th>Have you seen any of the 6 films in the Star Wars franchise?</th>\n",
       "      <th>Do you consider yourself to be a fan of the Star Wars film franchise?</th>\n",
       "      <th>seen_1</th>\n",
       "      <th>seen_2</th>\n",
       "      <th>seen_3</th>\n",
       "      <th>seen_4</th>\n",
       "      <th>seen_5</th>\n",
       "      <th>seen_6</th>\n",
       "      <th>ranking_1</th>\n",
       "      <th>...</th>\n",
       "      <th>Unnamed: 28</th>\n",
       "      <th>Which character shot first?</th>\n",
       "      <th>Are you familiar with the Expanded Universe?</th>\n",
       "      <th>Do you consider yourself to be a fan of the Expanded Universe?ÂÃ¦</th>\n",
       "      <th>Do you consider yourself to be a fan of the Star Trek franchise?</th>\n",
       "      <th>Gender</th>\n",
       "      <th>Age</th>\n",
       "      <th>Household Income</th>\n",
       "      <th>Education</th>\n",
       "      <th>Location (Census Region)</th>\n",
       "    </tr>\n",
       "  </thead>\n",
       "  <tbody>\n",
       "    <tr>\n",
       "      <th>1</th>\n",
       "      <td>3.292880e+09</td>\n",
       "      <td>True</td>\n",
       "      <td>True</td>\n",
       "      <td>True</td>\n",
       "      <td>True</td>\n",
       "      <td>True</td>\n",
       "      <td>True</td>\n",
       "      <td>True</td>\n",
       "      <td>True</td>\n",
       "      <td>3.0</td>\n",
       "      <td>...</td>\n",
       "      <td>Very favorably</td>\n",
       "      <td>I don't understand this question</td>\n",
       "      <td>Yes</td>\n",
       "      <td>No</td>\n",
       "      <td>No</td>\n",
       "      <td>Male</td>\n",
       "      <td>18-29</td>\n",
       "      <td>NaN</td>\n",
       "      <td>High school degree</td>\n",
       "      <td>South Atlantic</td>\n",
       "    </tr>\n",
       "    <tr>\n",
       "      <th>2</th>\n",
       "      <td>3.292880e+09</td>\n",
       "      <td>False</td>\n",
       "      <td>NaN</td>\n",
       "      <td>False</td>\n",
       "      <td>False</td>\n",
       "      <td>False</td>\n",
       "      <td>False</td>\n",
       "      <td>False</td>\n",
       "      <td>False</td>\n",
       "      <td>NaN</td>\n",
       "      <td>...</td>\n",
       "      <td>NaN</td>\n",
       "      <td>NaN</td>\n",
       "      <td>NaN</td>\n",
       "      <td>NaN</td>\n",
       "      <td>Yes</td>\n",
       "      <td>Male</td>\n",
       "      <td>18-29</td>\n",
       "      <td>$0 - $24,999</td>\n",
       "      <td>Bachelor degree</td>\n",
       "      <td>West South Central</td>\n",
       "    </tr>\n",
       "    <tr>\n",
       "      <th>3</th>\n",
       "      <td>3.292765e+09</td>\n",
       "      <td>True</td>\n",
       "      <td>False</td>\n",
       "      <td>True</td>\n",
       "      <td>True</td>\n",
       "      <td>True</td>\n",
       "      <td>False</td>\n",
       "      <td>False</td>\n",
       "      <td>False</td>\n",
       "      <td>1.0</td>\n",
       "      <td>...</td>\n",
       "      <td>Unfamiliar (N/A)</td>\n",
       "      <td>I don't understand this question</td>\n",
       "      <td>No</td>\n",
       "      <td>NaN</td>\n",
       "      <td>No</td>\n",
       "      <td>Male</td>\n",
       "      <td>18-29</td>\n",
       "      <td>$0 - $24,999</td>\n",
       "      <td>High school degree</td>\n",
       "      <td>West North Central</td>\n",
       "    </tr>\n",
       "    <tr>\n",
       "      <th>4</th>\n",
       "      <td>3.292763e+09</td>\n",
       "      <td>True</td>\n",
       "      <td>True</td>\n",
       "      <td>True</td>\n",
       "      <td>True</td>\n",
       "      <td>True</td>\n",
       "      <td>True</td>\n",
       "      <td>True</td>\n",
       "      <td>True</td>\n",
       "      <td>5.0</td>\n",
       "      <td>...</td>\n",
       "      <td>Very favorably</td>\n",
       "      <td>I don't understand this question</td>\n",
       "      <td>No</td>\n",
       "      <td>NaN</td>\n",
       "      <td>Yes</td>\n",
       "      <td>Male</td>\n",
       "      <td>18-29</td>\n",
       "      <td>$100,000 - $149,999</td>\n",
       "      <td>Some college or Associate degree</td>\n",
       "      <td>West North Central</td>\n",
       "    </tr>\n",
       "    <tr>\n",
       "      <th>5</th>\n",
       "      <td>3.292731e+09</td>\n",
       "      <td>True</td>\n",
       "      <td>True</td>\n",
       "      <td>True</td>\n",
       "      <td>True</td>\n",
       "      <td>True</td>\n",
       "      <td>True</td>\n",
       "      <td>True</td>\n",
       "      <td>True</td>\n",
       "      <td>5.0</td>\n",
       "      <td>...</td>\n",
       "      <td>Somewhat favorably</td>\n",
       "      <td>Greedo</td>\n",
       "      <td>Yes</td>\n",
       "      <td>No</td>\n",
       "      <td>No</td>\n",
       "      <td>Male</td>\n",
       "      <td>18-29</td>\n",
       "      <td>$100,000 - $149,999</td>\n",
       "      <td>Some college or Associate degree</td>\n",
       "      <td>West North Central</td>\n",
       "    </tr>\n",
       "  </tbody>\n",
       "</table>\n",
       "<p>5 rows × 38 columns</p>\n",
       "</div>"
      ],
      "text/plain": [
       "   RespondentID Have you seen any of the 6 films in the Star Wars franchise?  \\\n",
       "1  3.292880e+09                                               True             \n",
       "2  3.292880e+09                                              False             \n",
       "3  3.292765e+09                                               True             \n",
       "4  3.292763e+09                                               True             \n",
       "5  3.292731e+09                                               True             \n",
       "\n",
       "  Do you consider yourself to be a fan of the Star Wars film franchise?  \\\n",
       "1                                               True                      \n",
       "2                                                NaN                      \n",
       "3                                              False                      \n",
       "4                                               True                      \n",
       "5                                               True                      \n",
       "\n",
       "  seen_1 seen_2 seen_3 seen_4 seen_5 seen_6  ranking_1  \\\n",
       "1   True   True   True   True   True   True        3.0   \n",
       "2  False  False  False  False  False  False        NaN   \n",
       "3   True   True   True  False  False  False        1.0   \n",
       "4   True   True   True   True   True   True        5.0   \n",
       "5   True   True   True   True   True   True        5.0   \n",
       "\n",
       "            ...                    Unnamed: 28  \\\n",
       "1           ...                 Very favorably   \n",
       "2           ...                            NaN   \n",
       "3           ...               Unfamiliar (N/A)   \n",
       "4           ...                 Very favorably   \n",
       "5           ...             Somewhat favorably   \n",
       "\n",
       "        Which character shot first?  \\\n",
       "1  I don't understand this question   \n",
       "2                               NaN   \n",
       "3  I don't understand this question   \n",
       "4  I don't understand this question   \n",
       "5                            Greedo   \n",
       "\n",
       "   Are you familiar with the Expanded Universe?  \\\n",
       "1                                           Yes   \n",
       "2                                           NaN   \n",
       "3                                            No   \n",
       "4                                            No   \n",
       "5                                           Yes   \n",
       "\n",
       "   Do you consider yourself to be a fan of the Expanded Universe?ÂÃ¦  \\\n",
       "1                                                 No                    \n",
       "2                                                NaN                    \n",
       "3                                                NaN                    \n",
       "4                                                NaN                    \n",
       "5                                                 No                    \n",
       "\n",
       "   Do you consider yourself to be a fan of the Star Trek franchise? Gender  \\\n",
       "1                                                 No                  Male   \n",
       "2                                                Yes                  Male   \n",
       "3                                                 No                  Male   \n",
       "4                                                Yes                  Male   \n",
       "5                                                 No                  Male   \n",
       "\n",
       "     Age     Household Income                         Education  \\\n",
       "1  18-29                  NaN                High school degree   \n",
       "2  18-29         $0 - $24,999                   Bachelor degree   \n",
       "3  18-29         $0 - $24,999                High school degree   \n",
       "4  18-29  $100,000 - $149,999  Some college or Associate degree   \n",
       "5  18-29  $100,000 - $149,999  Some college or Associate degree   \n",
       "\n",
       "  Location (Census Region)  \n",
       "1           South Atlantic  \n",
       "2       West South Central  \n",
       "3       West North Central  \n",
       "4       West North Central  \n",
       "5       West North Central  \n",
       "\n",
       "[5 rows x 38 columns]"
      ]
     },
     "execution_count": 23,
     "metadata": {},
     "output_type": "execute_result"
    }
   ],
   "source": [
    "star_wars.head()"
   ]
  },
  {
   "cell_type": "markdown",
   "metadata": {
    "collapsed": true
   },
   "source": [
    "# Determine the highest ranked movie"
   ]
  },
  {
   "cell_type": "code",
   "execution_count": 24,
   "metadata": {
    "collapsed": false
   },
   "outputs": [
    {
     "data": {
      "text/plain": [
       "<matplotlib.axes._subplots.AxesSubplot at 0x7f2e6b20e9e8>"
      ]
     },
     "execution_count": 24,
     "metadata": {},
     "output_type": "execute_result"
    },
    {
     "data": {
      "image/png": "[encoded data removed]",
      "text/plain": [
       "<matplotlib.figure.Figure at 0x7f2e6b1749e8>"
      ]
     },
     "metadata": {},
     "output_type": "display_data"
    }
   ],
   "source": [
    "%matplotlib inline\n",
    "star_wars[star_wars.columns[9:15]].mean().plot.bar()"
   ]
  },
  {
   "cell_type": "markdown",
   "metadata": {},
   "source": [
    "So far we have cleaned up the data and calculated the average ranking of each movie. Considering that a lower ranking is better, we can say that the original trilogy ranks higher than the new movies"
   ]
  },
  {
   "cell_type": "markdown",
   "metadata": {
    "collapsed": true
   },
   "source": [
    "# View count for each movie"
   ]
  },
  {
   "cell_type": "code",
   "execution_count": 25,
   "metadata": {
    "collapsed": false
   },
   "outputs": [
    {
     "data": {
      "text/plain": [
       "<matplotlib.axes._subplots.AxesSubplot at 0x7f2e6a89eb00>"
      ]
     },
     "execution_count": 25,
     "metadata": {},
     "output_type": "execute_result"
    },
    {
     "data": {
      "image/png": "[encoded data removed]",
      "text/plain": [
       "<matplotlib.figure.Figure at 0x7f2e6a8b12e8>"
      ]
     },
     "metadata": {},
     "output_type": "display_data"
    }
   ],
   "source": [
    "star_wars[star_wars.columns[3:9]].sum().plot.bar()"
   ]
  },
  {
   "cell_type": "markdown",
   "metadata": {},
   "source": [
    "We can see that both episodes V and VI thrived on the success of the very first movie. On the contrary, even though episode I was met with a lot of expection from the fans, the dissapointment caused by this movie negatively impacted the chances of success from the last to movies."
   ]
  },
  {
   "cell_type": "markdown",
   "metadata": {},
   "source": [
    "Also there is a correlation between amount of viewers and ranking: the more viewers a movie has, the more liked it is among viewers, with the exception of episode I"
   ]
  },
  {
   "cell_type": "markdown",
   "metadata": {},
   "source": [
    "# Explore preferences of Star Trek fans"
   ]
  },
  {
   "cell_type": "code",
   "execution_count": 26,
   "metadata": {
    "collapsed": true
   },
   "outputs": [],
   "source": [
    "trekies = star_wars[star_wars[\"Do you consider yourself to be a fan of the Star Trek franchise?\"] == \"Yes\"]\n",
    "non_trekies = star_wars[star_wars[\"Do you consider yourself to be a fan of the Star Trek franchise?\"] == \"No\"]"
   ]
  },
  {
   "cell_type": "code",
   "execution_count": 31,
   "metadata": {
    "collapsed": false
   },
   "outputs": [
    {
     "data": {
      "image/png": "[encoded data removed]",
      "text/plain": [
       "<matplotlib.figure.Figure at 0x7f2e6af49e80>"
      ]
     },
     "metadata": {},
     "output_type": "display_data"
    },
    {
     "data": {
      "text/plain": [
       "<Container object of 6 artists>"
      ]
     },
     "execution_count": 31,
     "metadata": {},
     "output_type": "execute_result"
    },
    {
     "data": {
      "image/png": "[encoded data removed]",
      "text/plain": [
       "<matplotlib.figure.Figure at 0x7f2e6adeb668>"
      ]
     },
     "metadata": {},
     "output_type": "display_data"
    }
   ],
   "source": [
    "import matplotlib.pyplot as plt\n",
    "plt.bar(range(6), trekies[trekies.columns[9:15]].mean())\n",
    "plt.show()\n",
    "plt.bar(range(6), non_trekies[non_trekies.columns[9:15]].mean())"
   ]
  },
  {
   "cell_type": "code",
   "execution_count": 32,
   "metadata": {
    "collapsed": false
   },
   "outputs": [
    {
     "data": {
      "image/png": "[encoded data removed]",
      "text/plain": [
       "<matplotlib.figure.Figure at 0x7f2e6add92b0>"
      ]
     },
     "metadata": {},
     "output_type": "display_data"
    },
    {
     "data": {
      "text/plain": [
       "<Container object of 6 artists>"
      ]
     },
     "execution_count": 32,
     "metadata": {},
     "output_type": "execute_result"
    },
    {
     "data": {
      "image/png": "[encoded data removed]",
      "text/plain": [
       "<matplotlib.figure.Figure at 0x7f2e6ace8320>"
      ]
     },
     "metadata": {},
     "output_type": "display_data"
    }
   ],
   "source": [
    "plt.bar(range(6), trekies[trekies.columns[3:9]].sum())\n",
    "plt.show()\n",
    "plt.bar(range(6), non_trekies[non_trekies.columns[3:9]].sum())"
   ]
  },
  {
   "cell_type": "markdown",
   "metadata": {},
   "source": [
    "Star Trek fans, who are more familiar with Sci-Fi didn't let the disapointing \"Episode I\" wane their enthusiasm for the franchise and went to se "
   ]
  }
 ],
 "metadata": {
  "kernelspec": {
   "display_name": "Python 3",
   "language": "python",
   "name": "python3"
  },
  "language_info": {
   "codemirror_mode": {
    "name": "ipython",
    "version": 3
   },
   "file_extension": ".py",
   "mimetype": "text/x-python",
   "name": "python",
   "nbconvert_exporter": "python",
   "pygments_lexer": "ipython3",
   "version": "3.4.3"
  }
 },
 "nbformat": 4,
 "nbformat_minor": 0
}
