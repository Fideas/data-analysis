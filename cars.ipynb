{
 "cells": [
  {
   "cell_type": "markdown",
   "metadata": {
    "collapsed": true
   },
   "source": [
    "# Predicting car prices"
   ]
  },
  {
   "cell_type": "code",
   "execution_count": 92,
   "metadata": {
    "collapsed": false
   },
   "outputs": [
    {
     "name": "stdout",
     "output_type": "stream",
     "text": [
      "['3', '?', 'alfa-romero', 'gas', 'std', 'two', 'convertible', 'rwd', 'front', '88.60', '168.80', '64.10', '48.80', '2548', 'dohc', 'four', '130', 'mpfi', '3.47', '2.68', '9.00', '111', '5000', '21', '27', '13495']\n"
     ]
    }
   ],
   "source": [
    "import pandas as pd\n",
    "\n",
    "cars = pd.read_csv(\"imports-85.data\")\n",
    "print(cars.columns.values.tolist())"
   ]
  },
  {
   "cell_type": "markdown",
   "metadata": {},
   "source": [
    "The dataset is missing it headers, so we are going to add them manually "
   ]
  },
  {
   "cell_type": "code",
   "execution_count": 93,
   "metadata": {
    "collapsed": false
   },
   "outputs": [
    {
     "name": "stdout",
     "output_type": "stream",
     "text": [
      "   symboling normalized-losses         make fuel-type aspiration num-of-doors  \\\n",
      "0          3                 ?  alfa-romero       gas        std          two   \n",
      "1          3                 ?  alfa-romero       gas        std          two   \n",
      "2          1                 ?  alfa-romero       gas        std          two   \n",
      "3          2               164         audi       gas        std         four   \n",
      "4          2               164         audi       gas        std         four   \n",
      "\n",
      "    body-style drive-wheels engine-location  wheel-base  ...    engine-size  \\\n",
      "0  convertible          rwd           front        88.6  ...            130   \n",
      "1  convertible          rwd           front        88.6  ...            130   \n",
      "2    hatchback          rwd           front        94.5  ...            152   \n",
      "3        sedan          fwd           front        99.8  ...            109   \n",
      "4        sedan          4wd           front        99.4  ...            136   \n",
      "\n",
      "   fuel-system  bore  stroke compression-rate horsepower  peak-rpm city-mpg  \\\n",
      "0         mpfi  3.47    2.68              9.0        111      5000       21   \n",
      "1         mpfi  3.47    2.68              9.0        111      5000       21   \n",
      "2         mpfi  2.68    3.47              9.0        154      5000       19   \n",
      "3         mpfi  3.19    3.40             10.0        102      5500       24   \n",
      "4         mpfi  3.19    3.40              8.0        115      5500       18   \n",
      "\n",
      "  highway-mpg  price  \n",
      "0          27  13495  \n",
      "1          27  16500  \n",
      "2          26  16500  \n",
      "3          30  13950  \n",
      "4          22  17450  \n",
      "\n",
      "[5 rows x 26 columns]\n"
     ]
    }
   ],
   "source": [
    "cols = ['symboling', 'normalized-losses', 'make', 'fuel-type', 'aspiration', 'num-of-doors', 'body-style', \n",
    "        'drive-wheels', 'engine-location', 'wheel-base', 'length', 'width', 'height', 'curb-weight', 'engine-type', \n",
    "        'num-of-cylinders', 'engine-size', 'fuel-system', 'bore', 'stroke', 'compression-rate', 'horsepower', 'peak-rpm', 'city-mpg', 'highway-mpg', 'price']\n",
    "cars = pd.read_csv(\"imports-85.data\", names = cols)\n",
    "print(cars.head())"
   ]
  },
  {
   "cell_type": "markdown",
   "metadata": {},
   "source": [
    "We will only use numeric values as features to be compared by our regression model. This means the columns `normalized-losses`, `wheel-base`, `length`, `width`, `height`, `curb-weight`, `bore`, `stroke`, `compression-rate`, `horsepower`, `peak-rpm`, `city-mpg`, and `highway-mpg`.\n",
    "\n",
    "Our target value will be of course the `price` column "
   ]
  },
  {
   "cell_type": "markdown",
   "metadata": {},
   "source": [
    "## Clean up the data"
   ]
  },
  {
   "cell_type": "code",
   "execution_count": 94,
   "metadata": {
    "collapsed": false
   },
   "outputs": [
    {
     "data": {
      "text/plain": [
       "normalized-losses    41\n",
       "wheel-base            0\n",
       "length                0\n",
       "width                 0\n",
       "height                0\n",
       "curb-weight           0\n",
       "bore                  4\n",
       "stroke                4\n",
       "compression-rate      0\n",
       "horsepower            2\n",
       "peak-rpm              2\n",
       "city-mpg              0\n",
       "highway-mpg           0\n",
       "price                 4\n",
       "dtype: int64"
      ]
     },
     "execution_count": 94,
     "metadata": {},
     "output_type": "execute_result"
    }
   ],
   "source": [
    "import numpy as np\n",
    "\n",
    "continuous_values_cols = ['normalized-losses', 'wheel-base', 'length', 'width', 'height', 'curb-weight', 'bore', 'stroke', 'compression-rate', 'horsepower', 'peak-rpm', 'city-mpg', 'highway-mpg', 'price']\n",
    "numeric_cars = cars[continuous_values_cols]\n",
    "\n",
    "numeric_cars = numeric_cars.replace(\"?\", np.nan)\n",
    "numeric_cars = numeric_cars.astype(\"float\")\n",
    "numeric_cars.isnull().sum()"
   ]
  },
  {
   "cell_type": "markdown",
   "metadata": {},
   "source": [
    "Data missing the target column won't help us train or test our model, so lets drop those rows"
   ]
  },
  {
   "cell_type": "code",
   "execution_count": 95,
   "metadata": {
    "collapsed": false
   },
   "outputs": [
    {
     "data": {
      "text/plain": [
       "normalized-losses    37\n",
       "wheel-base            0\n",
       "length                0\n",
       "width                 0\n",
       "height                0\n",
       "curb-weight           0\n",
       "bore                  4\n",
       "stroke                4\n",
       "compression-rate      0\n",
       "horsepower            2\n",
       "peak-rpm              2\n",
       "city-mpg              0\n",
       "highway-mpg           0\n",
       "price                 0\n",
       "dtype: int64"
      ]
     },
     "execution_count": 95,
     "metadata": {},
     "output_type": "execute_result"
    }
   ],
   "source": [
    "numeric_cars = numeric_cars.dropna(subset = [\"price\"])\n",
    "numeric_cars.isnull().sum()"
   ]
  },
  {
   "cell_type": "code",
   "execution_count": 96,
   "metadata": {
    "collapsed": true
   },
   "outputs": [],
   "source": [
    "numeric_cars = numeric_cars.fillna(numeric_cars.mean())"
   ]
  },
  {
   "cell_type": "code",
   "execution_count": 97,
   "metadata": {
    "collapsed": true
   },
   "outputs": [],
   "source": [
    "price_col = numeric_cars[\"price\"]\n",
    "numeric_cars = (numeric_cars - numeric_cars.min())/(numeric_cars.max() - numeric_cars.min())\n",
    "numeric_cars[\"price\"] = price_col"
   ]
  },
  {
   "cell_type": "markdown",
   "metadata": {},
   "source": [
    "## Univariate model"
   ]
  },
  {
   "cell_type": "code",
   "execution_count": 98,
   "metadata": {
    "collapsed": true
   },
   "outputs": [],
   "source": [
    "from sklearn.neighbors import KNeighborsRegressor\n",
    "from sklearn.metrics import mean_squared_error\n",
    "\n",
    "def knn_train_test(training_col, testing_col, df):\n",
    "    np.random.seed(1)\n",
    "    shuffled_index = np.random.permutation(df.index)\n",
    "    random_df = df.reindex(shuffled_index)\n",
    "    \n",
    "    #Train with 75% of the data\n",
    "    last_train_index = int (len(df) / 4 * 3)\n",
    "    train_df = random_df.iloc[:last_train_index]\n",
    "    test_df = random_df.iloc[last_train_index:]\n",
    "    knn = KNeighborsRegressor()\n",
    "    knn.fit(train_df[[training_col]], train_df[testing_col])\n",
    "    predictions = knn.predict(test_df[[training_col]])\n",
    "    \n",
    "    return mean_squared_error(test_df[testing_col], predictions) ** .5"
   ]
  },
  {
   "cell_type": "code",
   "execution_count": 99,
   "metadata": {
    "collapsed": false
   },
   "outputs": [
    {
     "data": {
      "text/plain": [
       "[('city-mpg', 3684.8035537602168),\n",
       " ('width', 3917.2276702270137),\n",
       " ('curb-weight', 4011.4500359082417),\n",
       " ('wheel-base', 4161.9479718978127),\n",
       " ('highway-mpg', 4323.5025303792845),\n",
       " ('horsepower', 4756.9837553461812),\n",
       " ('length', 5416.2940636854019),\n",
       " ('compression-rate', 5958.5723282165691),\n",
       " ('normalized-losses', 6231.311123986794),\n",
       " ('peak-rpm', 6326.4717438928401),\n",
       " ('bore', 6507.4219534313279),\n",
       " ('height', 6666.6676776273735),\n",
       " ('stroke', 6939.6914399959405)]"
      ]
     },
     "execution_count": 99,
     "metadata": {},
     "output_type": "execute_result"
    }
   ],
   "source": [
    "continuous_values_cols.remove(\"price\")\n",
    "rmses = {}\n",
    "for col in continuous_values_cols:\n",
    "    rmses[col] = knn_train_test(col, \"price\", numeric_cars)\n",
    "\n",
    "from operator import itemgetter\n",
    "sorted(rmses.items(), key=itemgetter(1))"
   ]
  },
  {
   "cell_type": "markdown",
   "metadata": {},
   "source": [
    "At 5 nearest neighbors, the citi miles per gallon feature would give us the best prediction model. However, with a RMSE of more than 3 thousand dollars the model is really poor"
   ]
  },
  {
   "cell_type": "markdown",
   "metadata": {},
   "source": [
    "## Hyperparameter selection"
   ]
  },
  {
   "cell_type": "code",
   "execution_count": 100,
   "metadata": {
    "collapsed": true
   },
   "outputs": [],
   "source": [
    "def knn_train_test(training_col, testing_col, df, k):\n",
    "    np.random.seed(1)\n",
    "    shuffled_index = np.random.permutation(df.index)\n",
    "    random_df = df.reindex(shuffled_index)\n",
    "    \n",
    "    #Train with 75% of the data\n",
    "    last_train_index = int (len(df) / 4 * 3)\n",
    "    train_df = random_df.iloc[:last_train_index]\n",
    "    test_df = random_df.iloc[last_train_index:]\n",
    "    knn = KNeighborsRegressor(n_neighbors = k)\n",
    "    knn.fit(train_df[[training_col]], train_df[testing_col])\n",
    "    predictions = knn.predict(test_df[[training_col]])\n",
    "    \n",
    "    return mean_squared_error(test_df[testing_col], predictions) ** .5"
   ]
  },
  {
   "cell_type": "code",
   "execution_count": 101,
   "metadata": {
    "collapsed": false
   },
   "outputs": [
    {
     "name": "stdout",
     "output_type": "stream",
     "text": [
      "{'length': OrderedDict([(1, 5297.150036557764), (3, 5507.6254401608267), (5, 5416.2940636854019), (7, 5030.5838284499359), (9, 4407.8270476521693)]), 'peak-rpm': OrderedDict([(1, 7434.7067165278495), (3, 7452.9880963456635), (5, 6326.4717438928401), (7, 6746.2355946023081), (9, 6817.3645171233056)]), 'curb-weight': OrderedDict([(1, 3906.6625644092765), (3, 4156.2816516395987), (5, 4011.4500359082417), (7, 3811.5247071791855), (9, 3914.8184777366964)]), 'highway-mpg': OrderedDict([(1, 5033.2242638487787), (3, 4465.3959667014478), (5, 4323.5025303792845), (7, 3902.7625529383477), (9, 4249.080449511941)]), 'normalized-losses': OrderedDict([(1, 6499.8764256729992), (3, 6373.1071234843839), (5, 6231.311123986794), (7, 6434.3319528815073), (9, 6534.5183710109532)]), 'wheel-base': OrderedDict([(1, 2740.6257228854101), (3, 3417.1446705321687), (5, 4161.9479718978127), (7, 4572.0804969760029), (9, 4488.4964112595771)]), 'width': OrderedDict([(1, 2791.7330129663678), (3, 4083.1054993128109), (5, 3917.2276702270137), (7, 3722.0335252957311), (9, 3665.1674441104628)]), 'compression-rate': OrderedDict([(1, 6357.7197601828602), (3, 5732.9338690828008), (5, 5958.5723282165691), (7, 5674.8400840897712), (9, 6218.3630725931534)]), 'city-mpg': OrderedDict([(1, 4403.5010447347904), (3, 4066.0079553304445), (5, 3684.8035537602168), (7, 3751.3880442982118), (9, 4114.0505528424783)]), 'horsepower': OrderedDict([(1, 3554.3212501150779), (3, 4351.0060735250472), (5, 4756.9837553461812), (7, 4701.7966856542498), (9, 4717.573083571473)]), 'bore': OrderedDict([(1, 8034.7011621283018), (3, 6084.3625427154038), (5, 6507.4219534313279), (7, 7053.5516687167828), (9, 7347.122881701951)]), 'height': OrderedDict([(1, 8302.1790867359214), (3, 7159.3697495889246), (5, 6666.6676776273735), (7, 6570.3902795321183), (9, 6484.2789553135326)]), 'stroke': OrderedDict([(1, 10305.511168834877), (3, 8888.3865779232201), (5, 6939.6914399959405), (7, 7280.8532727525662), (9, 6975.7806220419143)])}\n"
     ]
    }
   ],
   "source": [
    "import collections\n",
    "k_values = [1, 3, 5, 7, 9]\n",
    "rmses = {}\n",
    "for col in continuous_values_cols:\n",
    "    col_rmses = {}\n",
    "    for k in k_values:\n",
    "        col_rmses[k] = knn_train_test(col, \"price\", numeric_cars, k)\n",
    "    rmses[col] = collections.OrderedDict(sorted(col_rmses.items()))\n",
    "print(rmses)    "
   ]
  },
  {
   "cell_type": "code",
   "execution_count": 102,
   "metadata": {
    "collapsed": false
   },
   "outputs": [
    {
     "data": {
      "image/png": "[encoded data removed]",
      "text/plain": [
       "<matplotlib.figure.Figure at 0x7f237be46908>"
      ]
     },
     "metadata": {},
     "output_type": "display_data"
    }
   ],
   "source": [
    "import matplotlib.pyplot as plt\n",
    "%matplotlib inline\n",
    "\n",
    "for k,v in rmses.items():\n",
    "    x = list(v.keys())\n",
    "    y = list(v.values())\n",
    "    \n",
    "    plt.plot(x,y)\n",
    "    plt.xlabel('k value')\n",
    "    plt.ylabel('RMSE')"
   ]
  },
  {
   "cell_type": "markdown",
   "metadata": {},
   "source": [
    "Using `k = 1` the best price prediction can be obtain with either the wheelbase or the width of the car. Interestingly this 2 metrics are closely related to the size of a car"
   ]
  },
  {
   "cell_type": "markdown",
   "metadata": {},
   "source": [
    "## Multivariate model"
   ]
  },
  {
   "cell_type": "code",
   "execution_count": 104,
   "metadata": {
    "collapsed": false
   },
   "outputs": [
    {
     "name": "stdout",
     "output_type": "stream",
     "text": [
      "{'three best features': 2409.5169671330314, 'four best features': 2792.8019105143403, 'five best features': 2709.5476680601496, 'two best features': 3559.2150919252176}\n"
     ]
    }
   ],
   "source": [
    "def knn_train_test(training_cols, testing_col, df, k):\n",
    "    np.random.seed(1)\n",
    "    shuffled_index = np.random.permutation(df.index)\n",
    "    random_df = df.reindex(shuffled_index)\n",
    "    \n",
    "    #Train with 75% of the data\n",
    "    last_train_index = int (len(df) / 4 * 3)\n",
    "    train_df = random_df.iloc[:last_train_index]\n",
    "    test_df = random_df.iloc[last_train_index:]\n",
    "    knn = KNeighborsRegressor(n_neighbors = k)\n",
    "    knn.fit(train_df[training_cols], train_df[testing_col])\n",
    "    predictions = knn.predict(test_df[training_cols])\n",
    "    \n",
    "    return mean_squared_error(test_df[testing_col], predictions) ** .5\n",
    "\n",
    "rmses = {}\n",
    "\n",
    "two_best_features = [\"city-mpg\", \"width\"]\n",
    "rmse_val = knn_train_test(two_best_features, 'price', numeric_cars, 5)\n",
    "rmses[\"two best features\"] = rmse_val\n",
    "\n",
    "three_best_features = [\"city-mpg\", \"width\", \"curb-weight\"]\n",
    "rmse_val = knn_train_test(three_best_features, 'price', numeric_cars, 5)\n",
    "rmses[\"three best features\"] = rmse_val\n",
    "\n",
    "four_best_features = [\"city-mpg\", \"width\", \"curb-weight\", \"wheel-base\"]\n",
    "rmse_val = knn_train_test(four_best_features, 'price', numeric_cars, 5)\n",
    "rmses[\"four best features\"] = rmse_val\n",
    "\n",
    "five_best_features = [\"city-mpg\", \"width\", \"curb-weight\", \"wheel-base\", \"highway-mpg\"]\n",
    "rmse_val = knn_train_test(five_best_features, 'price', numeric_cars, 5)\n",
    "rmses[\"five best features\"] = rmse_val\n",
    "\n",
    "print(rmses)"
   ]
  },
  {
   "cell_type": "markdown",
   "metadata": {},
   "source": [
    "We will optimize the hyperparameter for the best 3 models"
   ]
  },
  {
   "cell_type": "code",
   "execution_count": 108,
   "metadata": {
    "collapsed": false
   },
   "outputs": [
    {
     "name": "stdout",
     "output_type": "stream",
     "text": [
      "{'three best features': {1: 2106.7419228305503, 2: 2014.411498744611, 3: 2246.9245182804148, 4: 2286.8566742429252, 5: 2409.5169671330314, 6: 2696.3508235421737, 7: 2823.5231395488559, 8: 2746.3796992050975, 9: 2749.3880698537409, 10: 2778.9985589395756, 11: 2920.7557202674939, 12: 3093.09415745977, 13: 3109.6316215946085, 14: 3281.7783131647852, 15: 3357.6063094598539, 16: 3455.9422114021031, 17: 3557.9371189455524, 18: 3589.8128010556607, 19: 3636.8031890271136, 20: 3700.0947350352121, 21: 3811.1835287334584, 22: 3864.2722020577398, 23: 3942.9524009834204, 24: 3954.889831278022}, 'four best features': {1: 2250.0427969786028, 2: 2590.3534337546885, 3: 2865.7595528611291, 4: 3155.3067732525365, 5: 2792.8019105143403, 6: 2606.0375342988236, 7: 2609.7902825567367, 8: 2633.4186877493948, 9: 2578.5788533940831, 10: 2776.3502237826624, 11: 3007.3803679218654, 12: 3060.8315494265835, 13: 3122.7017110904753, 14: 3233.176359518407, 15: 3294.6992658605241, 16: 3425.3222280371547, 17: 3527.8260761162624, 18: 3605.9728885067689, 19: 3669.7228691250593, 20: 3569.7407837388187, 21: 3651.7952827743093, 22: 3605.777129735819, 23: 3573.5270764697793, 24: 3625.1653858251343}, 'five best features': {1: 2489.2282881624647, 2: 2633.0698655118645, 3: 2929.7925889692401, 4: 3043.6155601021756, 5: 2709.5476680601496, 6: 2523.872143542515, 7: 2502.8794478784321, 8: 2644.7618617662783, 9: 2760.9500627668417, 10: 2924.7055892389394, 11: 3044.5941246564216, 12: 3180.3263217688414, 13: 3285.5979117976449, 14: 3365.3205599747189, 15: 3383.8733699660124, 16: 3468.605881953572, 17: 3465.2884965231924, 18: 3545.8349610817654, 19: 3678.6859653031315, 20: 3776.7143956193499, 21: 3812.0106612275526, 22: 3846.2554150910205, 23: 3893.4518198225101, 24: 3853.5417146385862}}\n"
     ]
    }
   ],
   "source": [
    "three_rmse = {}\n",
    "four_rmse = {}\n",
    "five_rmse = {}\n",
    "rmses = {}\n",
    "\n",
    "for k in range(1, 25):\n",
    "    three_rmse[k] = knn_train_test(three_best_features, 'price', numeric_cars, k)\n",
    "    four_rmse[k] = knn_train_test(four_best_features, 'price', numeric_cars, k)\n",
    "    five_rmse[k] = knn_train_test(five_best_features, 'price', numeric_cars, k)\n",
    "    \n",
    "rmses[\"three best features\"] = three_rmse\n",
    "rmses[\"four best features\"] = four_rmse\n",
    "rmses[\"five best features\"] = five_rmse\n",
    "\n",
    "print(rmses)"
   ]
  },
  {
   "cell_type": "code",
   "execution_count": 115,
   "metadata": {
    "collapsed": false
   },
   "outputs": [
    {
     "data": {
      "image/png": "[encoded data removed]",
      "text/plain": [
       "<matplotlib.figure.Figure at 0x7f237bd8b128>"
      ]
     },
     "metadata": {},
     "output_type": "display_data"
    }
   ],
   "source": [
    "for k,v in rmses.items():\n",
    "    x = list(v.keys())\n",
    "    y = list(v.values())\n",
    "    \n",
    "    plt.plot(x,y)\n",
    "    plt.xlabel('k value')\n",
    "    plt.ylabel('RMSE')\n",
    "    plt.legend([\"Three feature model\", \"Four feature model\", \"Five feature model\"])"
   ]
  },
  {
   "cell_type": "markdown",
   "metadata": {},
   "source": [
    "The optimal `k` value id 2 for the Three-feature model, and 1 for the Four-feature and Five-feature model.\n",
    "\n",
    "Our Three-feature model has seen a significant increase on its performance, however with a RMSE slightly above 2000 dollars, it is still very unreliable. Also, we haven't calculated the variance of the error: we don't really know if it performs OK for a particular kind of cars and poorly for the rest, or if it predicts "
   ]
  },
  {
   "cell_type": "code",
   "execution_count": null,
   "metadata": {
    "collapsed": true
   },
   "outputs": [],
   "source": []
  }
 ],
 "metadata": {
  "kernelspec": {
   "display_name": "Python 3",
   "language": "python",
   "name": "python3"
  },
  "language_info": {
   "codemirror_mode": {
    "name": "ipython",
    "version": 3
   },
   "file_extension": ".py",
   "mimetype": "text/x-python",
   "name": "python",
   "nbconvert_exporter": "python",
   "pygments_lexer": "ipython3",
   "version": "3.4.3"
  }
 },
 "nbformat": 4,
 "nbformat_minor": 2
}
